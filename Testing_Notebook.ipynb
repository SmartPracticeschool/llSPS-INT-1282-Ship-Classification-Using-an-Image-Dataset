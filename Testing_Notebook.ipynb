{
 "cells": [
  {
   "cell_type": "code",
   "execution_count": 1,
   "metadata": {},
   "outputs": [
    {
     "name": "stderr",
     "output_type": "stream",
     "text": [
      "Using TensorFlow backend.\n"
     ]
    }
   ],
   "source": [
    "from keras.models import load_model\n",
    "import numpy as np\n",
    "import cv2"
   ]
  },
  {
   "cell_type": "code",
   "execution_count": 2,
   "metadata": {},
   "outputs": [
    {
     "name": "stdout",
     "output_type": "stream",
     "text": [
      "WARNING:tensorflow:From C:\\Users\\LENOVO\\AppData\\Local\\Continuum\\anaconda3\\lib\\site-packages\\keras\\backend\\tensorflow_backend.py:4070: The name tf.nn.max_pool is deprecated. Please use tf.nn.max_pool2d instead.\n",
      "\n",
      "WARNING:tensorflow:From C:\\Users\\LENOVO\\AppData\\Local\\Continuum\\anaconda3\\lib\\site-packages\\keras\\backend\\tensorflow_backend.py:422: The name tf.global_variables is deprecated. Please use tf.compat.v1.global_variables instead.\n",
      "\n"
     ]
    }
   ],
   "source": [
    "model = load_model('mymodel2.h5')\n",
    "model.compile(loss='categorical_crossentropy',optimizer='adam',metrics=['accuracy'])\n"
   ]
  },
  {
   "cell_type": "code",
   "execution_count": 3,
   "metadata": {},
   "outputs": [],
   "source": [
    "from skimage.transform import resize\n",
    "\n",
    "def detect(frame):\n",
    "    try:\n",
    "        ship_type=['Aircraft Carriers','Bulkers','Inland dry cargo vessels','Motor yachts','cruise ships','drilling rigs','fire fighting vessels','fishing vessels','restaurant ships','submarines']\n",
    "        img = resize(frame,(64,64))\n",
    "        img = np.expand_dims(img,axis=0)\n",
    "        if(np.max(img)>1):\n",
    "            img = img/255.0\n",
    "        prediction = model.predict(img)\n",
    "        print(prediction)\n",
    "        prediction = model.predict_classes(img)\n",
    "        print(ship_type[prediction[0]])\n",
    "    except AttributeError:\n",
    "        print(\"shape not found\")\n"
   ]
  },
  {
   "cell_type": "code",
   "execution_count": 4,
   "metadata": {},
   "outputs": [
    {
     "name": "stdout",
     "output_type": "stream",
     "text": [
      "[[4.7985730e-01 3.2085695e-10 1.8589128e-06 2.0987501e-02 4.3431661e-01\n",
      "  8.3345111e-04 2.1264586e-06 2.3441687e-02 8.2658352e-03 3.2293763e-02]]\n",
      "Aircraft Carriers\n"
     ]
    }
   ],
   "source": [
    "frame=cv2.imread('C:/Users/LENOVO/Desktop/internship-project/Datasets/training_set/Aircraft Carriers/406027.jpg')\n",
    "data = detect(frame)"
   ]
  },
  {
   "cell_type": "code",
   "execution_count": 5,
   "metadata": {},
   "outputs": [
    {
     "name": "stdout",
     "output_type": "stream",
     "text": [
      "[[1.6570704e-02 9.2016292e-01 5.1362958e-02 2.0463279e-04 1.2538930e-04\n",
      "  4.9352093e-04 7.5678690e-03 2.1151910e-03 7.1926194e-04 6.7761680e-04]]\n",
      "Bulkers\n"
     ]
    }
   ],
   "source": [
    "frame=cv2.imread('C:/Users/LENOVO/Desktop/internship-project/Datasets/training_set/Bulkers/175535.jpg')\n",
    "data = detect(frame)"
   ]
  },
  {
   "cell_type": "code",
   "execution_count": 6,
   "metadata": {},
   "outputs": [
    {
     "name": "stdout",
     "output_type": "stream",
     "text": [
      "[[3.0934013e-02 1.0674148e-02 7.9015419e-03 1.4293290e-03 5.5225474e-01\n",
      "  3.4791589e-04 6.1947701e-04 6.6793449e-02 1.6090276e-03 3.2743630e-01]]\n",
      "cruise ships\n"
     ]
    }
   ],
   "source": [
    "frame=cv2.imread('C:/Users/LENOVO/Desktop/internship-project/Datasets/training_set/cruise ships/615653.jpg')\n",
    "data = detect(frame)"
   ]
  },
  {
   "cell_type": "code",
   "execution_count": 7,
   "metadata": {},
   "outputs": [
    {
     "name": "stdout",
     "output_type": "stream",
     "text": [
      "[[3.1963624e-05 2.3490864e-08 5.5383381e-08 9.2953519e-04 5.0631398e-04\n",
      "  9.8918134e-01 4.3012509e-08 2.1759840e-04 4.9455476e-04 8.6386520e-03]]\n",
      "drilling rigs\n"
     ]
    }
   ],
   "source": [
    "frame=cv2.imread('C:/Users/LENOVO/Desktop/internship-project/Datasets/training_set/drilling rigs/1536692.jpg')\n",
    "data = detect(frame)"
   ]
  },
  {
   "cell_type": "code",
   "execution_count": 8,
   "metadata": {},
   "outputs": [
    {
     "name": "stdout",
     "output_type": "stream",
     "text": [
      "[[4.7254125e-05 4.6788936e-12 2.7232925e-09 1.5929450e-03 9.3975729e-08\n",
      "  5.1687617e-04 9.5435762e-01 4.2070970e-02 2.0848066e-04 1.2057488e-03]]\n",
      "fire fighting vessels\n"
     ]
    }
   ],
   "source": [
    "frame=cv2.imread('C:/Users/LENOVO/Desktop/internship-project/Datasets/training_set/fire fighting vessels/29632.jpg')\n",
    "data = detect(frame)"
   ]
  },
  {
   "cell_type": "code",
   "execution_count": 9,
   "metadata": {},
   "outputs": [
    {
     "name": "stdout",
     "output_type": "stream",
     "text": [
      "[[4.7893017e-03 3.2894651e-08 2.6640939e-04 1.1850307e-03 7.7548439e-06\n",
      "  1.6388443e-01 2.1840713e-04 8.1284070e-01 3.0381067e-03 1.3769788e-02]]\n",
      "fishing vessels\n"
     ]
    }
   ],
   "source": [
    "frame=cv2.imread('C:/Users/LENOVO/Desktop/internship-project/Datasets/training_set/fishing vessels/418437.jpg')\n",
    "data = detect(frame)"
   ]
  },
  {
   "cell_type": "code",
   "execution_count": 10,
   "metadata": {},
   "outputs": [
    {
     "name": "stdout",
     "output_type": "stream",
     "text": [
      "[[1.0535120e-08 2.0342321e-09 9.9999607e-01 1.7479282e-08 1.3869600e-07\n",
      "  5.0062938e-13 9.7092769e-09 1.6151056e-06 8.2812996e-08 2.0635403e-06]]\n",
      "Inland dry cargo vessels\n"
     ]
    }
   ],
   "source": [
    "frame=cv2.imread('C:/Users/LENOVO/Desktop/internship-project/Datasets/training_set/Inland dry cargo vessels/3078859.jpg')\n",
    "data = detect(frame)"
   ]
  },
  {
   "cell_type": "code",
   "execution_count": 11,
   "metadata": {},
   "outputs": [
    {
     "name": "stdout",
     "output_type": "stream",
     "text": [
      "[[2.2586820e-01 4.7269383e-10 6.2161138e-09 4.6783453e-01 1.8730151e-02\n",
      "  7.2534364e-03 4.2285095e-08 5.0399151e-02 2.2591601e-01 3.9984514e-03]]\n",
      "Motor yachts\n"
     ]
    }
   ],
   "source": [
    "frame=cv2.imread('C:/Users/LENOVO/Desktop/internship-project/Datasets/training_set/Motor yachts/2963700.jpg')\n",
    "data = detect(frame)"
   ]
  },
  {
   "cell_type": "code",
   "execution_count": 12,
   "metadata": {},
   "outputs": [
    {
     "name": "stdout",
     "output_type": "stream",
     "text": [
      "[[1.1325660e-06 2.8387305e-13 1.0582909e-07 3.6573961e-01 2.7740290e-03\n",
      "  1.3025571e-05 7.9739066e-06 3.8268516e-04 6.3016665e-01 9.1479905e-04]]\n",
      "restaurant ships\n"
     ]
    }
   ],
   "source": [
    "frame=cv2.imread('C:/Users/LENOVO/Desktop/internship-project/Datasets/training_set/restaurant ships/3042982.jpg')\n",
    "data = detect(frame)"
   ]
  },
  {
   "cell_type": "code",
   "execution_count": 13,
   "metadata": {},
   "outputs": [
    {
     "name": "stdout",
     "output_type": "stream",
     "text": [
      "[[9.6304182e-05 7.7972209e-06 3.0305219e-07 1.2350852e-06 8.2388615e-06\n",
      "  1.2192138e-04 7.5993201e-05 2.7205476e-07 6.5089320e-05 9.9962282e-01]]\n",
      "submarines\n"
     ]
    }
   ],
   "source": [
    "frame=cv2.imread('C:/Users/LENOVO/Desktop/internship-project/Datasets/training_set/submarines/1224068.jpg')\n",
    "data = detect(frame)"
   ]
  },
  {
   "cell_type": "code",
   "execution_count": null,
   "metadata": {},
   "outputs": [],
   "source": []
  }
 ],
 "metadata": {
  "kernelspec": {
   "display_name": "Python 3",
   "language": "python",
   "name": "python3"
  },
  "language_info": {
   "codemirror_mode": {
    "name": "ipython",
    "version": 3
   },
   "file_extension": ".py",
   "mimetype": "text/x-python",
   "name": "python",
   "nbconvert_exporter": "python",
   "pygments_lexer": "ipython3",
   "version": "3.7.4"
  }
 },
 "nbformat": 4,
 "nbformat_minor": 2
}
