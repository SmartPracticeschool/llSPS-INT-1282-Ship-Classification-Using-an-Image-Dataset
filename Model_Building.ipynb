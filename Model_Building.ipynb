{
 "cells": [
  {
   "cell_type": "code",
   "execution_count": 15,
   "metadata": {},
   "outputs": [
    {
     "data": {
      "text/plain": [
       "'C:\\\\Users\\\\LENOVO\\\\Desktop\\\\internship-project\\\\Datasets'"
      ]
     },
     "execution_count": 15,
     "metadata": {},
     "output_type": "execute_result"
    }
   ],
   "source": [
    "import os\n",
    "os.getcwd()\n"
   ]
  },
  {
   "cell_type": "code",
   "execution_count": 16,
   "metadata": {},
   "outputs": [
    {
     "data": {
      "text/plain": [
       "'C:\\\\Users\\\\LENOVO\\\\Desktop\\\\internship-project\\\\Datasets'"
      ]
     },
     "execution_count": 16,
     "metadata": {},
     "output_type": "execute_result"
    }
   ],
   "source": [
    "os.chdir(\"C:/Users/LENOVO/Desktop/internship-project/Datasets\")\n",
    "os.getcwd()"
   ]
  },
  {
   "cell_type": "code",
   "execution_count": 17,
   "metadata": {
    "scrolled": true
   },
   "outputs": [],
   "source": [
    "from keras.models import Sequential\n",
    "from keras.layers import Dense\n",
    "from keras.layers import Convolution2D\n",
    "from keras.layers import MaxPooling2D\n",
    "from keras.layers import Flatten"
   ]
  },
  {
   "cell_type": "code",
   "execution_count": 18,
   "metadata": {},
   "outputs": [],
   "source": [
    "#Intialize the model\n",
    "model=Sequential()"
   ]
  },
  {
   "cell_type": "code",
   "execution_count": 19,
   "metadata": {},
   "outputs": [],
   "source": [
    "# Add Convolution Layer\n",
    "model.add(Convolution2D(32,(3,3),input_shape=(64,64,3),activation=\"relu\"))"
   ]
  },
  {
   "cell_type": "code",
   "execution_count": 20,
   "metadata": {},
   "outputs": [],
   "source": [
    "#Add Pooling Layer\n",
    "model.add(MaxPooling2D(pool_size = (6, 6)))"
   ]
  },
  {
   "cell_type": "code",
   "execution_count": 21,
   "metadata": {},
   "outputs": [],
   "source": [
    "#Add Flattening Layer\n",
    "model.add(Flatten())"
   ]
  },
  {
   "cell_type": "code",
   "execution_count": 22,
   "metadata": {},
   "outputs": [
    {
     "name": "stderr",
     "output_type": "stream",
     "text": [
      "C:\\Users\\LENOVO\\AppData\\Local\\Continuum\\anaconda3\\lib\\site-packages\\ipykernel_launcher.py:2: UserWarning: Update your `Dense` call to the Keras 2 API: `Dense(activation=\"relu\", units=120, kernel_initializer=\"uniform\")`\n",
      "  \n"
     ]
    }
   ],
   "source": [
    "#Add Hidden Layer\n",
    "model.add(Dense(init=\"uniform\",activation=\"relu\",output_dim=120))"
   ]
  },
  {
   "cell_type": "code",
   "execution_count": 23,
   "metadata": {},
   "outputs": [
    {
     "name": "stderr",
     "output_type": "stream",
     "text": [
      "C:\\Users\\LENOVO\\AppData\\Local\\Continuum\\anaconda3\\lib\\site-packages\\ipykernel_launcher.py:2: UserWarning: Update your `Dense` call to the Keras 2 API: `Dense(activation=\"softmax\", units=10, kernel_initializer=\"uniform\")`\n",
      "  \n"
     ]
    }
   ],
   "source": [
    "#Add Output layer\n",
    "model.add(Dense(init=\"uniform\",activation=\"softmax\",output_dim=10))"
   ]
  },
  {
   "cell_type": "code",
   "execution_count": 24,
   "metadata": {},
   "outputs": [],
   "source": [
    "#Compile the model\n",
    "model.compile(loss=\"categorical_crossentropy\",optimizer=\"adam\",metrics=[\"accuracy\"])"
   ]
  },
  {
   "cell_type": "code",
   "execution_count": 25,
   "metadata": {},
   "outputs": [],
   "source": [
    "from keras.preprocessing.image import ImageDataGenerator\n",
    "\n",
    "train_datagen = ImageDataGenerator(rescale = 1./255,\n",
    "                                   shear_range = 0.2,\n",
    "                                   zoom_range = 0.2,\n",
    "                                   horizontal_flip = True)\n",
    "\n",
    "test_datagen = ImageDataGenerator(rescale = 1./255)"
   ]
  },
  {
   "cell_type": "code",
   "execution_count": 26,
   "metadata": {},
   "outputs": [
    {
     "name": "stdout",
     "output_type": "stream",
     "text": [
      "Found 10586 images belonging to 10 classes.\n",
      "Found 1238 images belonging to 10 classes.\n"
     ]
    }
   ],
   "source": [
    "x_train = train_datagen.flow_from_directory(r'training_set',\n",
    "                                                 target_size = (64, 64),\n",
    "                                                 batch_size = 32,\n",
    "                                                     class_mode = 'categorical')\n",
    "x_test = test_datagen.flow_from_directory(r'test_set',\n",
    "                                            target_size = (64, 64),\n",
    "                                            batch_size = 32,\n",
    "                                            class_mode = 'categorical')"
   ]
  },
  {
   "cell_type": "code",
   "execution_count": 27,
   "metadata": {},
   "outputs": [
    {
     "name": "stdout",
     "output_type": "stream",
     "text": [
      "{'Aircraft Carriers': 0, 'Bulkers': 1, 'Inland dry cargo vessels': 2, 'Motor yachts': 3, 'cruise ships': 4, 'drilling rigs': 5, 'fire fighting vessels': 6, 'fishing vessels': 7, 'restaurant ships': 8, 'submarines': 9}\n"
     ]
    }
   ],
   "source": [
    "print(x_train.class_indices)"
   ]
  },
  {
   "cell_type": "code",
   "execution_count": 41,
   "metadata": {},
   "outputs": [
    {
     "name": "stdout",
     "output_type": "stream",
     "text": [
      "Epoch 1/50\n"
     ]
    },
    {
     "name": "stderr",
     "output_type": "stream",
     "text": [
      "C:\\Users\\LENOVO\\AppData\\Local\\Continuum\\anaconda3\\lib\\site-packages\\ipykernel_launcher.py:1: UserWarning: The semantics of the Keras 2 argument `steps_per_epoch` is not the same as the Keras 1 argument `samples_per_epoch`. `steps_per_epoch` is the number of batches to draw from the generator at each epoch. Basically steps_per_epoch = samples_per_epoch/batch_size. Similarly `nb_val_samples`->`validation_steps` and `val_samples`->`steps` arguments have changed. Update your method calls accordingly.\n",
      "  \"\"\"Entry point for launching an IPython kernel.\n",
      "C:\\Users\\LENOVO\\AppData\\Local\\Continuum\\anaconda3\\lib\\site-packages\\ipykernel_launcher.py:1: UserWarning: Update your `fit_generator` call to the Keras 2 API: `fit_generator(<keras.pre..., epochs=50, validation_data=<keras.pre..., steps_per_epoch=250, validation_steps=2000)`\n",
      "  \"\"\"Entry point for launching an IPython kernel.\n"
     ]
    },
    {
     "name": "stdout",
     "output_type": "stream",
     "text": [
      "250/250 [==============================] - 329s 1s/step - loss: 0.3256 - accuracy: 0.8878 - val_loss: 1.6345 - val_accuracy: 0.6616\n",
      "Epoch 2/50\n",
      "250/250 [==============================] - 218s 874ms/step - loss: 0.3263 - accuracy: 0.8828 - val_loss: 0.9293 - val_accuracy: 0.6469\n",
      "Epoch 3/50\n",
      "250/250 [==============================] - 192s 770ms/step - loss: 0.3228 - accuracy: 0.8868 - val_loss: 2.6626 - val_accuracy: 0.6392\n",
      "Epoch 4/50\n",
      "250/250 [==============================] - 183s 732ms/step - loss: 0.3307 - accuracy: 0.8844 - val_loss: 1.3798 - val_accuracy: 0.6493\n",
      "Epoch 5/50\n",
      "250/250 [==============================] - 186s 744ms/step - loss: 0.3205 - accuracy: 0.8858 - val_loss: 2.7232 - val_accuracy: 0.6373\n",
      "Epoch 6/50\n",
      "250/250 [==============================] - 193s 771ms/step - loss: 0.3083 - accuracy: 0.8917 - val_loss: 2.1269 - val_accuracy: 0.6397\n",
      "Epoch 7/50\n",
      "250/250 [==============================] - 184s 735ms/step - loss: 0.3300 - accuracy: 0.8836 - val_loss: 1.6072 - val_accuracy: 0.6381\n",
      "Epoch 8/50\n",
      "250/250 [==============================] - 185s 742ms/step - loss: 0.3041 - accuracy: 0.8917 - val_loss: 1.4641 - val_accuracy: 0.6641\n",
      "Epoch 9/50\n",
      "250/250 [==============================] - 182s 730ms/step - loss: 0.3203 - accuracy: 0.8888 - val_loss: 1.1042 - val_accuracy: 0.6547\n",
      "Epoch 10/50\n",
      "250/250 [==============================] - 193s 773ms/step - loss: 0.3089 - accuracy: 0.8892 - val_loss: 2.5638 - val_accuracy: 0.6536\n",
      "Epoch 11/50\n",
      "250/250 [==============================] - 190s 759ms/step - loss: 0.3196 - accuracy: 0.8835 - val_loss: 1.9753 - val_accuracy: 0.6324\n",
      "Epoch 12/50\n",
      "250/250 [==============================] - 183s 730ms/step - loss: 0.3214 - accuracy: 0.8855 - val_loss: 2.5339 - val_accuracy: 0.6237\n",
      "Epoch 13/50\n",
      "250/250 [==============================] - 182s 726ms/step - loss: 0.3066 - accuracy: 0.8914 - val_loss: 2.1375 - val_accuracy: 0.6446\n",
      "Epoch 14/50\n",
      "250/250 [==============================] - 185s 741ms/step - loss: 0.2941 - accuracy: 0.8957 - val_loss: 1.8665 - val_accuracy: 0.6470\n",
      "Epoch 15/50\n",
      "250/250 [==============================] - 194s 776ms/step - loss: 0.3062 - accuracy: 0.8915 - val_loss: 2.3520 - val_accuracy: 0.6487\n",
      "Epoch 16/50\n",
      "250/250 [==============================] - 156s 626ms/step - loss: 0.3195 - accuracy: 0.8847 - val_loss: 1.9286 - val_accuracy: 0.6383\n",
      "Epoch 17/50\n",
      "250/250 [==============================] - 198s 794ms/step - loss: 0.3118 - accuracy: 0.8897 - val_loss: 3.3974 - val_accuracy: 0.6428\n",
      "Epoch 18/50\n",
      "250/250 [==============================] - 124s 497ms/step - loss: 0.2962 - accuracy: 0.8954 - val_loss: 1.5168 - val_accuracy: 0.6793\n",
      "Epoch 19/50\n",
      "250/250 [==============================] - 104s 415ms/step - loss: 0.3113 - accuracy: 0.8885 - val_loss: 1.7345 - val_accuracy: 0.6688\n",
      "Epoch 20/50\n",
      "250/250 [==============================] - 98s 392ms/step - loss: 0.3069 - accuracy: 0.8915 - val_loss: 2.1153 - val_accuracy: 0.6431\n",
      "Epoch 21/50\n",
      "250/250 [==============================] - 107s 427ms/step - loss: 0.2984 - accuracy: 0.8944 - val_loss: 1.2839 - val_accuracy: 0.6501\n",
      "Epoch 22/50\n",
      "250/250 [==============================] - 111s 444ms/step - loss: 0.2946 - accuracy: 0.8940 - val_loss: 1.7425 - val_accuracy: 0.6543\n",
      "Epoch 23/50\n",
      "250/250 [==============================] - 112s 447ms/step - loss: 0.3014 - accuracy: 0.8956 - val_loss: 2.0465 - val_accuracy: 0.6661\n",
      "Epoch 24/50\n",
      "250/250 [==============================] - 112s 449ms/step - loss: 0.2918 - accuracy: 0.8964 - val_loss: 1.9970 - val_accuracy: 0.6506\n",
      "Epoch 25/50\n",
      "250/250 [==============================] - 113s 452ms/step - loss: 0.2969 - accuracy: 0.8963 - val_loss: 0.9780 - val_accuracy: 0.6557\n",
      "Epoch 26/50\n",
      "250/250 [==============================] - 113s 452ms/step - loss: 0.2816 - accuracy: 0.9009 - val_loss: 1.2473 - val_accuracy: 0.6444\n",
      "Epoch 27/50\n",
      "250/250 [==============================] - 113s 452ms/step - loss: 0.3023 - accuracy: 0.8913 - val_loss: 1.0444 - val_accuracy: 0.6504\n",
      "Epoch 28/50\n",
      "250/250 [==============================] - 114s 456ms/step - loss: 0.3034 - accuracy: 0.8948 - val_loss: 1.1663 - val_accuracy: 0.6419\n",
      "Epoch 29/50\n",
      "250/250 [==============================] - 113s 454ms/step - loss: 0.2931 - accuracy: 0.8990 - val_loss: 2.1892 - val_accuracy: 0.6462\n",
      "Epoch 30/50\n",
      "250/250 [==============================] - 113s 453ms/step - loss: 0.2915 - accuracy: 0.8999 - val_loss: 1.6740 - val_accuracy: 0.6293\n",
      "Epoch 31/50\n",
      "250/250 [==============================] - 115s 458ms/step - loss: 0.2889 - accuracy: 0.8971 - val_loss: 1.4690 - val_accuracy: 0.6559\n",
      "Epoch 32/50\n",
      "250/250 [==============================] - 441s 2s/step - loss: 0.2832 - accuracy: 0.9010 - val_loss: 1.5774 - val_accuracy: 0.6510\n",
      "Epoch 33/50\n",
      "250/250 [==============================] - 166s 664ms/step - loss: 0.2925 - accuracy: 0.8982 - val_loss: 1.2260 - val_accuracy: 0.6495\n",
      "Epoch 34/50\n",
      "250/250 [==============================] - 325s 1s/step - loss: 0.2937 - accuracy: 0.8953 - val_loss: 1.9669 - val_accuracy: 0.6485\n",
      "Epoch 35/50\n",
      "250/250 [==============================] - 189s 755ms/step - loss: 0.2824 - accuracy: 0.8982 - val_loss: 2.6836 - val_accuracy: 0.6542\n",
      "Epoch 36/50\n",
      "250/250 [==============================] - 168s 673ms/step - loss: 0.2940 - accuracy: 0.8979 - val_loss: 2.1582 - val_accuracy: 0.6455\n",
      "Epoch 37/50\n",
      "250/250 [==============================] - 103s 413ms/step - loss: 0.2794 - accuracy: 0.9002 - val_loss: 1.7341 - val_accuracy: 0.6673\n",
      "Epoch 38/50\n",
      "250/250 [==============================] - 224s 896ms/step - loss: 0.2766 - accuracy: 0.9004 - val_loss: 2.1305 - val_accuracy: 0.6557\n",
      "Epoch 39/50\n",
      "250/250 [==============================] - 132s 530ms/step - loss: 0.2714 - accuracy: 0.9046 - val_loss: 2.5266 - val_accuracy: 0.6472\n",
      "Epoch 40/50\n",
      "250/250 [==============================] - 98s 393ms/step - loss: 0.2724 - accuracy: 0.9051 - val_loss: 2.5226 - val_accuracy: 0.6430\n",
      "Epoch 41/50\n",
      "250/250 [==============================] - 100s 400ms/step - loss: 0.2953 - accuracy: 0.8954 - val_loss: 2.0408 - val_accuracy: 0.6429\n",
      "Epoch 42/50\n",
      "250/250 [==============================] - 106s 422ms/step - loss: 0.2663 - accuracy: 0.9049 - val_loss: 1.3872 - val_accuracy: 0.6284\n",
      "Epoch 43/50\n",
      "250/250 [==============================] - 111s 446ms/step - loss: 0.2715 - accuracy: 0.9034 - val_loss: 1.7870 - val_accuracy: 0.6614\n",
      "Epoch 44/50\n",
      "250/250 [==============================] - 111s 445ms/step - loss: 0.2739 - accuracy: 0.9024 - val_loss: 1.9299 - val_accuracy: 0.6568\n",
      "Epoch 45/50\n",
      "250/250 [==============================] - 111s 445ms/step - loss: 0.2865 - accuracy: 0.9007 - val_loss: 1.5329 - val_accuracy: 0.6463\n",
      "Epoch 46/50\n",
      "250/250 [==============================] - 101s 405ms/step - loss: 0.2852 - accuracy: 0.9012 - val_loss: 2.4894 - val_accuracy: 0.6300\n",
      "Epoch 47/50\n",
      "250/250 [==============================] - 109s 436ms/step - loss: 0.2720 - accuracy: 0.9038 - val_loss: 2.2717 - val_accuracy: 0.6350\n",
      "Epoch 48/50\n",
      "250/250 [==============================] - 113s 453ms/step - loss: 0.2857 - accuracy: 0.9017 - val_loss: 1.7786 - val_accuracy: 0.6412\n",
      "Epoch 49/50\n",
      "250/250 [==============================] - 113s 452ms/step - loss: 0.2811 - accuracy: 0.8960 - val_loss: 1.5133 - val_accuracy: 0.6385\n",
      "Epoch 50/50\n",
      "250/250 [==============================] - 113s 452ms/step - loss: 0.2463 - accuracy: 0.9098 - val_loss: 1.8595 - val_accuracy: 0.6493\n"
     ]
    },
    {
     "data": {
      "text/plain": [
       "<keras.callbacks.callbacks.History at 0x22974349108>"
      ]
     },
     "execution_count": 41,
     "metadata": {},
     "output_type": "execute_result"
    }
   ],
   "source": [
    "model.fit_generator(x_train, samples_per_epoch=8000, epochs=50, validation_data=x_test,nb_val_samples=2000)"
   ]
  },
  {
   "cell_type": "code",
   "execution_count": 42,
   "metadata": {},
   "outputs": [],
   "source": [
    "model.save(\"mymodel2.h5\")"
   ]
  },
  {
   "cell_type": "code",
   "execution_count": 43,
   "metadata": {},
   "outputs": [],
   "source": [
    "from keras.models import load_model\n",
    "import numpy as np\n",
    "import cv2"
   ]
  },
  {
   "cell_type": "code",
   "execution_count": 44,
   "metadata": {
    "scrolled": true
   },
   "outputs": [],
   "source": [
    "model = load_model('mymodel2.h5')\n",
    "model.compile(loss='categorical_crossentropy',optimizer='adam',metrics=['accuracy'])\n"
   ]
  },
  {
   "cell_type": "code",
   "execution_count": 55,
   "metadata": {},
   "outputs": [],
   "source": [
    "from skimage.transform import resize\n",
    "\n",
    "def detect(frame):\n",
    "    try:\n",
    "        ship_type=['Aircraft Carriers','Bulkers','Inland dry cargo vessels','Motor yachts','cruise ships','drilling rigs','fire fighting vessels','fishing vessels','restaurant ships','submarines']\n",
    "        img = resize(frame,(64,64))\n",
    "        img = np.expand_dims(img,axis=0)\n",
    "        if(np.max(img)>1):\n",
    "            img = img/255.0\n",
    "        prediction = model.predict(img)\n",
    "        print(prediction)\n",
    "        prediction = model.predict_classes(img)\n",
    "        print(ship_type[prediction[0]])\n",
    "    except AttributeError:\n",
    "        print(\"shape not found\")\n"
   ]
  },
  {
   "cell_type": "code",
   "execution_count": 56,
   "metadata": {},
   "outputs": [
    {
     "name": "stdout",
     "output_type": "stream",
     "text": [
      "[[4.7985730e-01 3.2085695e-10 1.8589128e-06 2.0987501e-02 4.3431661e-01\n",
      "  8.3345111e-04 2.1264586e-06 2.3441687e-02 8.2658352e-03 3.2293763e-02]]\n",
      "Aircraft Carriers\n"
     ]
    }
   ],
   "source": [
    "frame=cv2.imread('C:/Users/LENOVO/Desktop/internship-project/Datasets/training_set/Aircraft Carriers/406027.jpg')\n",
    "data = detect(frame)"
   ]
  },
  {
   "cell_type": "code",
   "execution_count": 57,
   "metadata": {},
   "outputs": [
    {
     "name": "stdout",
     "output_type": "stream",
     "text": [
      "[[1.6570704e-02 9.2016292e-01 5.1362958e-02 2.0463279e-04 1.2538930e-04\n",
      "  4.9352093e-04 7.5678690e-03 2.1151910e-03 7.1926194e-04 6.7761680e-04]]\n",
      "Bulkers\n"
     ]
    }
   ],
   "source": [
    "frame=cv2.imread('C:/Users/LENOVO/Desktop/internship-project/Datasets/training_set/Bulkers/175535.jpg')\n",
    "data = detect(frame)"
   ]
  },
  {
   "cell_type": "code",
   "execution_count": 58,
   "metadata": {},
   "outputs": [
    {
     "name": "stdout",
     "output_type": "stream",
     "text": [
      "[[3.0934013e-02 1.0674148e-02 7.9015419e-03 1.4293290e-03 5.5225474e-01\n",
      "  3.4791589e-04 6.1947701e-04 6.6793449e-02 1.6090276e-03 3.2743630e-01]]\n",
      "cruise ships\n"
     ]
    }
   ],
   "source": [
    "frame=cv2.imread('C:/Users/LENOVO/Desktop/internship-project/Datasets/training_set/cruise ships/615653.jpg')\n",
    "data = detect(frame)"
   ]
  },
  {
   "cell_type": "code",
   "execution_count": 60,
   "metadata": {},
   "outputs": [
    {
     "name": "stdout",
     "output_type": "stream",
     "text": [
      "[[3.1963624e-05 2.3490864e-08 5.5383381e-08 9.2953519e-04 5.0631398e-04\n",
      "  9.8918134e-01 4.3012509e-08 2.1759840e-04 4.9455476e-04 8.6386520e-03]]\n",
      "drilling rigs\n"
     ]
    }
   ],
   "source": [
    "frame=cv2.imread('C:/Users/LENOVO/Desktop/internship-project/Datasets/training_set/drilling rigs/1536692.jpg')\n",
    "data = detect(frame)"
   ]
  },
  {
   "cell_type": "code",
   "execution_count": 71,
   "metadata": {},
   "outputs": [
    {
     "name": "stdout",
     "output_type": "stream",
     "text": [
      "[[4.7254125e-05 4.6788936e-12 2.7232925e-09 1.5929450e-03 9.3975729e-08\n",
      "  5.1687617e-04 9.5435762e-01 4.2070970e-02 2.0848066e-04 1.2057488e-03]]\n",
      "fire fighting vessels\n"
     ]
    }
   ],
   "source": [
    "frame=cv2.imread('C:/Users/LENOVO/Desktop/internship-project/Datasets/training_set/fire fighting vessels/29632.jpg')\n",
    "data = detect(frame)"
   ]
  },
  {
   "cell_type": "code",
   "execution_count": 73,
   "metadata": {},
   "outputs": [
    {
     "name": "stdout",
     "output_type": "stream",
     "text": [
      "[[4.7893017e-03 3.2894651e-08 2.6640939e-04 1.1850307e-03 7.7548439e-06\n",
      "  1.6388443e-01 2.1840713e-04 8.1284070e-01 3.0381067e-03 1.3769788e-02]]\n",
      "fishing vessels\n"
     ]
    }
   ],
   "source": [
    "frame=cv2.imread('C:/Users/LENOVO/Desktop/internship-project/Datasets/training_set/fishing vessels/418437.jpg')\n",
    "data = detect(frame)"
   ]
  },
  {
   "cell_type": "code",
   "execution_count": 75,
   "metadata": {},
   "outputs": [
    {
     "name": "stdout",
     "output_type": "stream",
     "text": [
      "[[1.0535120e-08 2.0342321e-09 9.9999607e-01 1.7479282e-08 1.3869600e-07\n",
      "  5.0062938e-13 9.7092769e-09 1.6151056e-06 8.2812996e-08 2.0635403e-06]]\n",
      "Inland dry cargo vessels\n"
     ]
    }
   ],
   "source": [
    "frame=cv2.imread('C:/Users/LENOVO/Desktop/internship-project/Datasets/training_set/Inland dry cargo vessels/3078859.jpg')\n",
    "data = detect(frame)"
   ]
  },
  {
   "cell_type": "code",
   "execution_count": 76,
   "metadata": {},
   "outputs": [
    {
     "name": "stdout",
     "output_type": "stream",
     "text": [
      "[[2.2586820e-01 4.7269383e-10 6.2161138e-09 4.6783453e-01 1.8730151e-02\n",
      "  7.2534364e-03 4.2285095e-08 5.0399151e-02 2.2591601e-01 3.9984514e-03]]\n",
      "Motor yachts\n"
     ]
    }
   ],
   "source": [
    "frame=cv2.imread('C:/Users/LENOVO/Desktop/internship-project/Datasets/training_set/Motor yachts/2963700.jpg')\n",
    "data = detect(frame)"
   ]
  },
  {
   "cell_type": "code",
   "execution_count": 79,
   "metadata": {},
   "outputs": [
    {
     "name": "stdout",
     "output_type": "stream",
     "text": [
      "[[1.1325660e-06 2.8387305e-13 1.0582909e-07 3.6573961e-01 2.7740290e-03\n",
      "  1.3025571e-05 7.9739066e-06 3.8268516e-04 6.3016665e-01 9.1479905e-04]]\n",
      "restaurant ships\n"
     ]
    }
   ],
   "source": [
    "frame=cv2.imread('C:/Users/LENOVO/Desktop/internship-project/Datasets/training_set/restaurant ships/3042982.jpg')\n",
    "data = detect(frame)"
   ]
  },
  {
   "cell_type": "code",
   "execution_count": 80,
   "metadata": {},
   "outputs": [
    {
     "name": "stdout",
     "output_type": "stream",
     "text": [
      "[[9.6304182e-05 7.7972209e-06 3.0305219e-07 1.2350852e-06 8.2388615e-06\n",
      "  1.2192138e-04 7.5993201e-05 2.7205476e-07 6.5089320e-05 9.9962282e-01]]\n",
      "submarines\n"
     ]
    }
   ],
   "source": [
    "frame=cv2.imread('C:/Users/LENOVO/Desktop/internship-project/Datasets/training_set/submarines/1224068.jpg')\n",
    "data = detect(frame)"
   ]
  },
  {
   "cell_type": "code",
   "execution_count": null,
   "metadata": {},
   "outputs": [],
   "source": []
  }
 ],
 "metadata": {
  "kernelspec": {
   "display_name": "Python 3",
   "language": "python",
   "name": "python3"
  },
  "language_info": {
   "codemirror_mode": {
    "name": "ipython",
    "version": 3
   },
   "file_extension": ".py",
   "mimetype": "text/x-python",
   "name": "python",
   "nbconvert_exporter": "python",
   "pygments_lexer": "ipython3",
   "version": "3.7.4"
  }
 },
 "nbformat": 4,
 "nbformat_minor": 2
}
